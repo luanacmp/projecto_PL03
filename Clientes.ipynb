{
 "cells": [
  {
   "cell_type": "markdown",
   "id": "7cf5a315",
   "metadata": {},
   "source": [
    "## Dataset Clientes"
   ]
  },
  {
   "cell_type": "code",
   "execution_count": 1,
   "id": "d64a3b00",
   "metadata": {},
   "outputs": [],
   "source": [
    "import pandas as pd\n",
    "import numpy as np\n",
    "import matplotlib.pyplot as plt\n",
    "import seaborn as sns\n",
    "from scipy import stats\n",
    "from datetime import datetime"
   ]
  },
  {
   "cell_type": "markdown",
   "id": "d6664c00",
   "metadata": {},
   "source": [
    "### PARTE A - PREPARAÇÃO E ANÁLISE EXPLORATÓRIA"
   ]
  },
  {
   "cell_type": "code",
   "execution_count": 2,
   "id": "6cb03262",
   "metadata": {},
   "outputs": [],
   "source": [
    "# Carregar dataset\n",
    "df_clientes = pd.read_csv ('clientes.csv', sep=',', encoding='utf-8')\n"
   ]
  },
  {
   "cell_type": "code",
   "execution_count": 3,
   "id": "28840481",
   "metadata": {},
   "outputs": [
    {
     "data": {
      "text/html": [
       "<div>\n",
       "<style scoped>\n",
       "    .dataframe tbody tr th:only-of-type {\n",
       "        vertical-align: middle;\n",
       "    }\n",
       "\n",
       "    .dataframe tbody tr th {\n",
       "        vertical-align: top;\n",
       "    }\n",
       "\n",
       "    .dataframe thead th {\n",
       "        text-align: right;\n",
       "    }\n",
       "</style>\n",
       "<table border=\"1\" class=\"dataframe\">\n",
       "  <thead>\n",
       "    <tr style=\"text-align: right;\">\n",
       "      <th></th>\n",
       "      <th>cliente_id</th>\n",
       "      <th>idade</th>\n",
       "      <th>genero</th>\n",
       "      <th>nacionalidade</th>\n",
       "      <th>distrito_residencia</th>\n",
       "      <th>cliente_desde</th>\n",
       "      <th>tipo_cliente</th>\n",
       "      <th>cliente_habitual</th>\n",
       "    </tr>\n",
       "  </thead>\n",
       "  <tbody>\n",
       "    <tr>\n",
       "      <th>0</th>\n",
       "      <td>C002216</td>\n",
       "      <td>46</td>\n",
       "      <td>F</td>\n",
       "      <td>PT</td>\n",
       "      <td>Aveiro</td>\n",
       "      <td>2023-04-02</td>\n",
       "      <td>Restaurante</td>\n",
       "      <td>Não</td>\n",
       "    </tr>\n",
       "    <tr>\n",
       "      <th>1</th>\n",
       "      <td>C002583</td>\n",
       "      <td>41</td>\n",
       "      <td>F</td>\n",
       "      <td>PT</td>\n",
       "      <td>Aveiro</td>\n",
       "      <td>2024-08-30</td>\n",
       "      <td>Hotel</td>\n",
       "      <td>Não</td>\n",
       "    </tr>\n",
       "    <tr>\n",
       "      <th>2</th>\n",
       "      <td>C001663</td>\n",
       "      <td>18</td>\n",
       "      <td>M</td>\n",
       "      <td>ES</td>\n",
       "      <td>NaN</td>\n",
       "      <td>2023-08-31</td>\n",
       "      <td>Restaurante</td>\n",
       "      <td>Não</td>\n",
       "    </tr>\n",
       "    <tr>\n",
       "      <th>3</th>\n",
       "      <td>C003028</td>\n",
       "      <td>49</td>\n",
       "      <td>M</td>\n",
       "      <td>PT</td>\n",
       "      <td>Porto</td>\n",
       "      <td>2024-08-30</td>\n",
       "      <td>Restaurante</td>\n",
       "      <td>Não</td>\n",
       "    </tr>\n",
       "    <tr>\n",
       "      <th>4</th>\n",
       "      <td>C004344</td>\n",
       "      <td>58</td>\n",
       "      <td>F</td>\n",
       "      <td>ES</td>\n",
       "      <td>NaN</td>\n",
       "      <td>2023-03-31</td>\n",
       "      <td>Restaurante</td>\n",
       "      <td>Não</td>\n",
       "    </tr>\n",
       "  </tbody>\n",
       "</table>\n",
       "</div>"
      ],
      "text/plain": [
       "  cliente_id  idade genero nacionalidade distrito_residencia cliente_desde  \\\n",
       "0    C002216     46      F            PT              Aveiro    2023-04-02   \n",
       "1    C002583     41      F            PT              Aveiro    2024-08-30   \n",
       "2    C001663     18      M            ES                 NaN    2023-08-31   \n",
       "3    C003028     49      M            PT               Porto    2024-08-30   \n",
       "4    C004344     58      F            ES                 NaN    2023-03-31   \n",
       "\n",
       "  tipo_cliente cliente_habitual  \n",
       "0  Restaurante              Não  \n",
       "1        Hotel              Não  \n",
       "2  Restaurante              Não  \n",
       "3  Restaurante              Não  \n",
       "4  Restaurante              Não  "
      ]
     },
     "execution_count": 3,
     "metadata": {},
     "output_type": "execute_result"
    }
   ],
   "source": [
    "df_clientes.head()"
   ]
  },
  {
   "cell_type": "code",
   "execution_count": 4,
   "id": "c1f193dd",
   "metadata": {},
   "outputs": [
    {
     "data": {
      "text/html": [
       "<div>\n",
       "<style scoped>\n",
       "    .dataframe tbody tr th:only-of-type {\n",
       "        vertical-align: middle;\n",
       "    }\n",
       "\n",
       "    .dataframe tbody tr th {\n",
       "        vertical-align: top;\n",
       "    }\n",
       "\n",
       "    .dataframe thead th {\n",
       "        text-align: right;\n",
       "    }\n",
       "</style>\n",
       "<table border=\"1\" class=\"dataframe\">\n",
       "  <thead>\n",
       "    <tr style=\"text-align: right;\">\n",
       "      <th></th>\n",
       "      <th>cliente_id</th>\n",
       "      <th>idade</th>\n",
       "      <th>genero</th>\n",
       "      <th>nacionalidade</th>\n",
       "      <th>distrito_residencia</th>\n",
       "      <th>cliente_desde</th>\n",
       "      <th>tipo_cliente</th>\n",
       "      <th>cliente_habitual</th>\n",
       "    </tr>\n",
       "  </thead>\n",
       "  <tbody>\n",
       "    <tr>\n",
       "      <th>7995</th>\n",
       "      <td>C005227</td>\n",
       "      <td>35</td>\n",
       "      <td>F</td>\n",
       "      <td>PT</td>\n",
       "      <td>Outro</td>\n",
       "      <td>2024-04-15</td>\n",
       "      <td>Restaurante</td>\n",
       "      <td>Não</td>\n",
       "    </tr>\n",
       "    <tr>\n",
       "      <th>7996</th>\n",
       "      <td>C005391</td>\n",
       "      <td>30</td>\n",
       "      <td>F</td>\n",
       "      <td>PT</td>\n",
       "      <td>Viseu</td>\n",
       "      <td>2024-03-03</td>\n",
       "      <td>Restaurante</td>\n",
       "      <td>Não</td>\n",
       "    </tr>\n",
       "    <tr>\n",
       "      <th>7997</th>\n",
       "      <td>C000861</td>\n",
       "      <td>45</td>\n",
       "      <td>M</td>\n",
       "      <td>PT</td>\n",
       "      <td>Outro</td>\n",
       "      <td>2024-03-05</td>\n",
       "      <td>Hotel</td>\n",
       "      <td>Não</td>\n",
       "    </tr>\n",
       "    <tr>\n",
       "      <th>7998</th>\n",
       "      <td>C007604</td>\n",
       "      <td>28</td>\n",
       "      <td>F</td>\n",
       "      <td>DE</td>\n",
       "      <td>NaN</td>\n",
       "      <td>2024-01-28</td>\n",
       "      <td>Restaurante</td>\n",
       "      <td>Sim</td>\n",
       "    </tr>\n",
       "    <tr>\n",
       "      <th>7999</th>\n",
       "      <td>C007271</td>\n",
       "      <td>18</td>\n",
       "      <td>M</td>\n",
       "      <td>UK</td>\n",
       "      <td>NaN</td>\n",
       "      <td>2023-05-30</td>\n",
       "      <td>Ambos</td>\n",
       "      <td>Sim</td>\n",
       "    </tr>\n",
       "  </tbody>\n",
       "</table>\n",
       "</div>"
      ],
      "text/plain": [
       "     cliente_id  idade genero nacionalidade distrito_residencia cliente_desde  \\\n",
       "7995    C005227     35      F            PT               Outro    2024-04-15   \n",
       "7996    C005391     30      F            PT               Viseu    2024-03-03   \n",
       "7997    C000861     45      M            PT               Outro    2024-03-05   \n",
       "7998    C007604     28      F            DE                 NaN    2024-01-28   \n",
       "7999    C007271     18      M            UK                 NaN    2023-05-30   \n",
       "\n",
       "     tipo_cliente cliente_habitual  \n",
       "7995  Restaurante              Não  \n",
       "7996  Restaurante              Não  \n",
       "7997        Hotel              Não  \n",
       "7998  Restaurante              Sim  \n",
       "7999        Ambos              Sim  "
      ]
     },
     "execution_count": 4,
     "metadata": {},
     "output_type": "execute_result"
    }
   ],
   "source": [
    "df_clientes.tail()"
   ]
  },
  {
   "cell_type": "code",
   "execution_count": 5,
   "id": "2a224768",
   "metadata": {},
   "outputs": [],
   "source": [
    "# fazer cópia do df\n",
    "df_clintes_original = df_clientes.copy()"
   ]
  },
  {
   "cell_type": "code",
   "execution_count": 6,
   "id": "030a0787",
   "metadata": {},
   "outputs": [
    {
     "name": "stdout",
     "output_type": "stream",
     "text": [
      "Linhas: 8000 Colunas: 8\n"
     ]
    }
   ],
   "source": [
    "# dimensões\n",
    "print(f\"Linhas: {df_clientes.shape[0]} Colunas: {df_clientes.shape[1]}\")"
   ]
  },
  {
   "cell_type": "code",
   "execution_count": 7,
   "id": "77f7a327",
   "metadata": {},
   "outputs": [
    {
     "name": "stdout",
     "output_type": "stream",
     "text": [
      "<class 'pandas.core.frame.DataFrame'>\n",
      "RangeIndex: 8000 entries, 0 to 7999\n",
      "Data columns (total 8 columns):\n",
      " #   Column               Non-Null Count  Dtype \n",
      "---  ------               --------------  ----- \n",
      " 0   cliente_id           8000 non-null   object\n",
      " 1   idade                8000 non-null   int64 \n",
      " 2   genero               8000 non-null   object\n",
      " 3   nacionalidade        8000 non-null   object\n",
      " 4   distrito_residencia  4078 non-null   object\n",
      " 5   cliente_desde        8000 non-null   object\n",
      " 6   tipo_cliente         8000 non-null   object\n",
      " 7   cliente_habitual     8000 non-null   object\n",
      "dtypes: int64(1), object(7)\n",
      "memory usage: 500.1+ KB\n"
     ]
    }
   ],
   "source": [
    "df_clientes.info()"
   ]
  },
  {
   "cell_type": "code",
   "execution_count": 8,
   "id": "31c7b596",
   "metadata": {},
   "outputs": [
    {
     "data": {
      "text/plain": [
       "cliente_id                     object\n",
       "idade                           int64\n",
       "genero                         object\n",
       "nacionalidade                  object\n",
       "distrito_residencia            object\n",
       "cliente_desde          datetime64[ns]\n",
       "tipo_cliente                   object\n",
       "cliente_habitual               object\n",
       "dtype: object"
      ]
     },
     "execution_count": 8,
     "metadata": {},
     "output_type": "execute_result"
    }
   ],
   "source": [
    "# alterar cliente_desde de string para data\n",
    "df_clientes['cliente_desde'] = pd.to_datetime(df_clientes['cliente_desde'])\n",
    "# tipos de dados\n",
    "df_clientes.dtypes"
   ]
  },
  {
   "cell_type": "code",
   "execution_count": 9,
   "id": "a1ca1f55",
   "metadata": {},
   "outputs": [
    {
     "data": {
      "text/html": [
       "<div>\n",
       "<style scoped>\n",
       "    .dataframe tbody tr th:only-of-type {\n",
       "        vertical-align: middle;\n",
       "    }\n",
       "\n",
       "    .dataframe tbody tr th {\n",
       "        vertical-align: top;\n",
       "    }\n",
       "\n",
       "    .dataframe thead th {\n",
       "        text-align: right;\n",
       "    }\n",
       "</style>\n",
       "<table border=\"1\" class=\"dataframe\">\n",
       "  <thead>\n",
       "    <tr style=\"text-align: right;\">\n",
       "      <th></th>\n",
       "      <th>idade</th>\n",
       "      <th>cliente_desde</th>\n",
       "    </tr>\n",
       "  </thead>\n",
       "  <tbody>\n",
       "    <tr>\n",
       "      <th>count</th>\n",
       "      <td>8000.000000</td>\n",
       "      <td>8000</td>\n",
       "    </tr>\n",
       "    <tr>\n",
       "      <th>mean</th>\n",
       "      <td>41.917000</td>\n",
       "      <td>2023-12-31 11:26:20.400000256</td>\n",
       "    </tr>\n",
       "    <tr>\n",
       "      <th>min</th>\n",
       "      <td>18.000000</td>\n",
       "      <td>2023-01-01 00:00:00</td>\n",
       "    </tr>\n",
       "    <tr>\n",
       "      <th>25%</th>\n",
       "      <td>31.000000</td>\n",
       "      <td>2023-07-01 00:00:00</td>\n",
       "    </tr>\n",
       "    <tr>\n",
       "      <th>50%</th>\n",
       "      <td>41.000000</td>\n",
       "      <td>2023-12-29 00:00:00</td>\n",
       "    </tr>\n",
       "    <tr>\n",
       "      <th>75%</th>\n",
       "      <td>52.000000</td>\n",
       "      <td>2024-07-04 00:00:00</td>\n",
       "    </tr>\n",
       "    <tr>\n",
       "      <th>max</th>\n",
       "      <td>80.000000</td>\n",
       "      <td>2024-12-31 00:00:00</td>\n",
       "    </tr>\n",
       "    <tr>\n",
       "      <th>std</th>\n",
       "      <td>14.970492</td>\n",
       "      <td>NaN</td>\n",
       "    </tr>\n",
       "  </tbody>\n",
       "</table>\n",
       "</div>"
      ],
      "text/plain": [
       "             idade                  cliente_desde\n",
       "count  8000.000000                           8000\n",
       "mean     41.917000  2023-12-31 11:26:20.400000256\n",
       "min      18.000000            2023-01-01 00:00:00\n",
       "25%      31.000000            2023-07-01 00:00:00\n",
       "50%      41.000000            2023-12-29 00:00:00\n",
       "75%      52.000000            2024-07-04 00:00:00\n",
       "max      80.000000            2024-12-31 00:00:00\n",
       "std      14.970492                            NaN"
      ]
     },
     "execution_count": 9,
     "metadata": {},
     "output_type": "execute_result"
    }
   ],
   "source": [
    "df_clientes.describe()"
   ]
  },
  {
   "cell_type": "code",
   "execution_count": 10,
   "id": "99ced5f2",
   "metadata": {},
   "outputs": [
    {
     "name": "stdout",
     "output_type": "stream",
     "text": [
      "cliente_id: 8000 valores\n",
      "idade: 63 valores\n",
      "genero: 2 valores\n",
      "nacionalidade: 6 valores\n",
      "distrito_residencia: 8 valores\n",
      "cliente_desde: 731 valores\n",
      "tipo_cliente: 3 valores\n",
      "cliente_habitual: 2 valores\n"
     ]
    }
   ],
   "source": [
    "# valores únicos\n",
    "for col in df_clientes.columns:\n",
    "    n_unique = df_clientes[col].nunique()\n",
    "    print(f\"{col}: {n_unique} valores\")"
   ]
  },
  {
   "cell_type": "code",
   "execution_count": 11,
   "id": "8b7ecb19",
   "metadata": {},
   "outputs": [
    {
     "data": {
      "text/html": [
       "<div>\n",
       "<style scoped>\n",
       "    .dataframe tbody tr th:only-of-type {\n",
       "        vertical-align: middle;\n",
       "    }\n",
       "\n",
       "    .dataframe tbody tr th {\n",
       "        vertical-align: top;\n",
       "    }\n",
       "\n",
       "    .dataframe thead th {\n",
       "        text-align: right;\n",
       "    }\n",
       "</style>\n",
       "<table border=\"1\" class=\"dataframe\">\n",
       "  <thead>\n",
       "    <tr style=\"text-align: right;\">\n",
       "      <th></th>\n",
       "      <th>n_missing</th>\n",
       "    </tr>\n",
       "  </thead>\n",
       "  <tbody>\n",
       "    <tr>\n",
       "      <th>distrito_residencia</th>\n",
       "      <td>3922</td>\n",
       "    </tr>\n",
       "    <tr>\n",
       "      <th>cliente_id</th>\n",
       "      <td>0</td>\n",
       "    </tr>\n",
       "    <tr>\n",
       "      <th>genero</th>\n",
       "      <td>0</td>\n",
       "    </tr>\n",
       "    <tr>\n",
       "      <th>idade</th>\n",
       "      <td>0</td>\n",
       "    </tr>\n",
       "    <tr>\n",
       "      <th>nacionalidade</th>\n",
       "      <td>0</td>\n",
       "    </tr>\n",
       "    <tr>\n",
       "      <th>cliente_desde</th>\n",
       "      <td>0</td>\n",
       "    </tr>\n",
       "    <tr>\n",
       "      <th>tipo_cliente</th>\n",
       "      <td>0</td>\n",
       "    </tr>\n",
       "    <tr>\n",
       "      <th>cliente_habitual</th>\n",
       "      <td>0</td>\n",
       "    </tr>\n",
       "  </tbody>\n",
       "</table>\n",
       "</div>"
      ],
      "text/plain": [
       "                     n_missing\n",
       "distrito_residencia       3922\n",
       "cliente_id                   0\n",
       "genero                       0\n",
       "idade                        0\n",
       "nacionalidade                0\n",
       "cliente_desde                0\n",
       "tipo_cliente                 0\n",
       "cliente_habitual             0"
      ]
     },
     "metadata": {},
     "output_type": "display_data"
    }
   ],
   "source": [
    "# 1) Missing values (contagem por coluna)\n",
    "missing = df_clientes.isna().sum().sort_values(ascending=False)\n",
    "display(missing.to_frame(\"n_missing\"))\n",
    "\n"
   ]
  },
  {
   "cell_type": "code",
   "execution_count": 12,
   "id": "3e185e93",
   "metadata": {},
   "outputs": [
    {
     "name": "stdout",
     "output_type": "stream",
     "text": [
      "Número de linhas duplicadas (exatamente iguais): 0\n",
      "Número de cliente_id repetidos: 0\n"
     ]
    }
   ],
   "source": [
    "# 1) Duplicados exatos (todas as colunas iguais)\n",
    "duplicados_exatos = df_clientes.duplicated().sum()\n",
    "print(f\"Número de linhas duplicadas (exatamente iguais): {duplicados_exatos}\")\n",
    "\n",
    "# 2) Duplicados com base apenas no cliente_id (devia ser único)\n",
    "duplicados_id = df_clientes.duplicated(subset=[\"cliente_id\"]).sum()\n",
    "print(f\"Número de cliente_id repetidos: {duplicados_id}\")\n"
   ]
  },
  {
   "cell_type": "code",
   "execution_count": 13,
   "id": "094bd2d8",
   "metadata": {},
   "outputs": [
    {
     "name": "stdout",
     "output_type": "stream",
     "text": [
      "Estrangeiros com distrito preenchido: 0\n",
      "Portugueses sem distrito: 0\n"
     ]
    }
   ],
   "source": [
    "# Clientes estrangeiros com distrito preenchido (não deveria haver)\n",
    "estrangeiros_com_distrito = df_clientes[\n",
    "    (df_clientes[\"nacionalidade\"] != \"PT\") &\n",
    "    (df_clientes[\"distrito_residencia\"].notna())\n",
    "]\n",
    "print(\"Estrangeiros com distrito preenchido:\", len(estrangeiros_com_distrito))\n",
    "\n",
    "# Portugueses sem distrito (poderia indicar missing)\n",
    "pt_sem_distrito = df_clientes[\n",
    "    (df_clientes[\"nacionalidade\"] == \"PT\") &\n",
    "    (df_clientes[\"distrito_residencia\"].isna())\n",
    "]\n",
    "print(\"Portugueses sem distrito:\", len(pt_sem_distrito))\n"
   ]
  },
  {
   "cell_type": "code",
   "execution_count": 14,
   "id": "71d3c549",
   "metadata": {},
   "outputs": [],
   "source": [
    "\n",
    "# Se não for PT, distrito passa a \"Estrangeiro\"\n",
    "df_clientes.loc[df_clientes[\"nacionalidade\"] != \"PT\", \"distrito_residencia\"] = \"Estrangeiro\"\n",
    "\n",
    "# Se for PT e distrito estiver vazio, podemos marcar como \"Desconhecido\"\n",
    "df_clientes.loc[\n",
    "    (df_clientes[\"nacionalidade\"] == \"PT\") & (df_clientes[\"distrito_residencia\"].isna()),\n",
    "    \"distrito_residencia\"\n",
    "] = \"Desconhecido\"\n",
    "\n",
    "# Normalizar valores de texto (strip e title)\n",
    "df_clientes[\"distrito_residencia\"] = df_clientes[\"distrito_residencia\"].astype(str).str.strip().str.title()\n"
   ]
  },
  {
   "cell_type": "code",
   "execution_count": 15,
   "id": "980bf23e",
   "metadata": {},
   "outputs": [
    {
     "data": {
      "text/plain": [
       "array(['Aveiro', 'Estrangeiro', 'Porto', 'Braga', 'Faro', 'Lisboa',\n",
       "       'Outro', 'Coimbra', 'Viseu'], dtype=object)"
      ]
     },
     "execution_count": 15,
     "metadata": {},
     "output_type": "execute_result"
    }
   ],
   "source": [
    "df_clientes['distrito_residencia'].unique()\n",
    "\n"
   ]
  },
  {
   "cell_type": "code",
   "execution_count": 16,
   "id": "31bce7c6",
   "metadata": {},
   "outputs": [
    {
     "data": {
      "text/html": [
       "<div>\n",
       "<style scoped>\n",
       "    .dataframe tbody tr th:only-of-type {\n",
       "        vertical-align: middle;\n",
       "    }\n",
       "\n",
       "    .dataframe tbody tr th {\n",
       "        vertical-align: top;\n",
       "    }\n",
       "\n",
       "    .dataframe thead th {\n",
       "        text-align: right;\n",
       "    }\n",
       "</style>\n",
       "<table border=\"1\" class=\"dataframe\">\n",
       "  <thead>\n",
       "    <tr style=\"text-align: right;\">\n",
       "      <th></th>\n",
       "      <th>n_missing</th>\n",
       "    </tr>\n",
       "  </thead>\n",
       "  <tbody>\n",
       "    <tr>\n",
       "      <th>cliente_id</th>\n",
       "      <td>0</td>\n",
       "    </tr>\n",
       "    <tr>\n",
       "      <th>idade</th>\n",
       "      <td>0</td>\n",
       "    </tr>\n",
       "    <tr>\n",
       "      <th>genero</th>\n",
       "      <td>0</td>\n",
       "    </tr>\n",
       "    <tr>\n",
       "      <th>nacionalidade</th>\n",
       "      <td>0</td>\n",
       "    </tr>\n",
       "    <tr>\n",
       "      <th>distrito_residencia</th>\n",
       "      <td>0</td>\n",
       "    </tr>\n",
       "    <tr>\n",
       "      <th>cliente_desde</th>\n",
       "      <td>0</td>\n",
       "    </tr>\n",
       "    <tr>\n",
       "      <th>tipo_cliente</th>\n",
       "      <td>0</td>\n",
       "    </tr>\n",
       "    <tr>\n",
       "      <th>cliente_habitual</th>\n",
       "      <td>0</td>\n",
       "    </tr>\n",
       "  </tbody>\n",
       "</table>\n",
       "</div>"
      ],
      "text/plain": [
       "                     n_missing\n",
       "cliente_id                   0\n",
       "idade                        0\n",
       "genero                       0\n",
       "nacionalidade                0\n",
       "distrito_residencia          0\n",
       "cliente_desde                0\n",
       "tipo_cliente                 0\n",
       "cliente_habitual             0"
      ]
     },
     "metadata": {},
     "output_type": "display_data"
    }
   ],
   "source": [
    "# 1) Missing values (contagem por coluna)\n",
    "missing = df_clientes.isna().sum().sort_values(ascending=False)\n",
    "display(missing.to_frame(\"n_missing\"))"
   ]
  },
  {
   "cell_type": "markdown",
   "id": "0f20627c",
   "metadata": {},
   "source": [
    "### não há mais valores em falta no distrito. os clientes que não tinham valor preenchido eram clientes estrangeiros e esse campo reflecte agora a sua situação. "
   ]
  },
  {
   "cell_type": "markdown",
   "id": "ced493ab",
   "metadata": {},
   "source": []
  },
  {
   "cell_type": "code",
   "execution_count": 17,
   "id": "43a84a21",
   "metadata": {},
   "outputs": [],
   "source": [
    "# Clirar colunas de tempo (ano, mês, dia)\n",
    "\n",
    "df_clientes[\"ano_primeira_interacao\"] = df_clientes[\"cliente_desde\"].dt.year\n",
    "df_clientes[\"mes_primeira_interacao\"] = df_clientes[\"cliente_desde\"].dt.month\n",
    "df_clientes[\"dia_primeira_interacao\"] = df_clientes[\"cliente_desde\"].dt.day\n"
   ]
  },
  {
   "cell_type": "code",
   "execution_count": 18,
   "id": "c2e840a4",
   "metadata": {},
   "outputs": [],
   "source": [
    "# Criar coluna booleana de cliente habitual\n",
    "\n",
    "df_clientes[\"cliente_habitual_bool\"] = df_clientes[\"cliente_habitual\"].map({\"Sim\": True, \"Não\": False})\n"
   ]
  },
  {
   "cell_type": "code",
   "execution_count": 19,
   "id": "b0cf285c",
   "metadata": {},
   "outputs": [],
   "source": [
    "# coluna com tempo de cliente desde primeira vez\n",
    "\n",
    "hoje = pd.Timestamp.today().normalize()\n",
    "df_clientes[\"anos_desde_primeira_interacao\"] = (hoje - df_clientes[\"cliente_desde\"]).dt.days / 365.25\n",
    "df_clientes[\"anos_desde_primeira_interacao\"] = df_clientes[\"anos_desde_primeira_interacao\"].round(1)\n"
   ]
  },
  {
   "cell_type": "code",
   "execution_count": 20,
   "id": "23f80c7f",
   "metadata": {},
   "outputs": [
    {
     "name": "stdout",
     "output_type": "stream",
     "text": [
      "<class 'pandas.core.frame.DataFrame'>\n",
      "RangeIndex: 8000 entries, 0 to 7999\n",
      "Data columns (total 13 columns):\n",
      " #   Column                         Non-Null Count  Dtype         \n",
      "---  ------                         --------------  -----         \n",
      " 0   cliente_id                     8000 non-null   object        \n",
      " 1   idade                          8000 non-null   int64         \n",
      " 2   genero                         8000 non-null   object        \n",
      " 3   nacionalidade                  8000 non-null   object        \n",
      " 4   distrito_residencia            8000 non-null   object        \n",
      " 5   cliente_desde                  8000 non-null   datetime64[ns]\n",
      " 6   tipo_cliente                   8000 non-null   object        \n",
      " 7   cliente_habitual               8000 non-null   object        \n",
      " 8   ano_primeira_interacao         8000 non-null   int32         \n",
      " 9   mes_primeira_interacao         8000 non-null   int32         \n",
      " 10  dia_primeira_interacao         8000 non-null   int32         \n",
      " 11  cliente_habitual_bool          8000 non-null   bool          \n",
      " 12  anos_desde_primeira_interacao  8000 non-null   float64       \n",
      "dtypes: bool(1), datetime64[ns](1), float64(1), int32(3), int64(1), object(6)\n",
      "memory usage: 664.2+ KB\n"
     ]
    }
   ],
   "source": [
    "df_clientes.info()\n"
   ]
  },
  {
   "cell_type": "code",
   "execution_count": 21,
   "id": "4e476aea",
   "metadata": {},
   "outputs": [
    {
     "data": {
      "text/plain": [
       "faixa_etaria\n",
       "35-44    1920\n",
       "45-54    1727\n",
       "25-34    1531\n",
       "18-24    1152\n",
       "55-64    1052\n",
       "65+       618\n",
       "<=17        0\n",
       "Name: count, dtype: int64"
      ]
     },
     "metadata": {},
     "output_type": "display_data"
    }
   ],
   "source": [
    "# criar faixa etária de cliente\n",
    "\n",
    "bins = [0, 17, 24, 34, 44, 54, 64, 200]\n",
    "labels = [\"<=17\",\"18-24\",\"25-34\",\"35-44\",\"45-54\",\"55-64\",\"65+\"]\n",
    "\n",
    "df_clientes[\"faixa_etaria\"] = pd.cut(\n",
    "    df_clientes[\"idade\"], bins=bins, labels=labels, include_lowest=True\n",
    ")\n",
    "\n",
    "display(df_clientes[\"faixa_etaria\"].value_counts(dropna=False))\n"
   ]
  },
  {
   "cell_type": "code",
   "execution_count": 22,
   "id": "ed30f215",
   "metadata": {},
   "outputs": [
    {
     "data": {
      "image/png": "[encoded data removed]",
      "text/plain": [
       "<Figure size 640x480 with 1 Axes>"
      ]
     },
     "metadata": {},
     "output_type": "display_data"
    },
    {
     "data": {
      "image/png": "[encoded data removed]",
      "text/plain": [
       "<Figure size 640x480 with 1 Axes>"
      ]
     },
     "metadata": {},
     "output_type": "display_data"
    }
   ],
   "source": [
    "# verificar outliers - unica variável com efeitos será idade \n",
    "# validar boxplot\n",
    "\n",
    "plt.boxplot(df_clientes[\"idade\"], vert=False)\n",
    "plt.title(\"Boxplot da Idade\")\n",
    "plt.xlabel(\"Idade\")\n",
    "plt.show()\n",
    "\n",
    "df_clientes[\"idade\"].hist(bins=20)\n",
    "plt.title(\"Distribuição da Idade\")\n",
    "plt.xlabel(\"Idade\")\n",
    "plt.ylabel(\"Frequência\")\n",
    "plt.show()\n"
   ]
  },
  {
   "cell_type": "code",
   "execution_count": 23,
   "id": "7ca0e57d",
   "metadata": {},
   "outputs": [
    {
     "name": "stdout",
     "output_type": "stream",
     "text": [
      "\n",
      "QUARTIS E PERCENTIS:\n",
      "----------------------------------------\n",
      "1º Quartil (25%): 31.00\n",
      "3º Quartil (75%): 52.00\n",
      "\n",
      "IQR (Q3-Q1): €21.00\n",
      "\n",
      "LIMITES PARA OUTLIERS:\n",
      "Inferior: €-0.50\n",
      "Superior: €83.50\n",
      "\n",
      "Outliers encontrados: 0 (0.0%)\n"
     ]
    }
   ],
   "source": [
    "# Quartis e Outliers: minimo, máximo, Q1-3, IQR, Limite inferior e superior, outliers, % de outliers\n",
    "print(\"\\nQUARTIS E PERCENTIS:\")\n",
    "print(\"-\" * 40)\n",
    "print(f\"1º Quartil (25%): {df_clientes['idade'].quantile(0.25):.2f}\")\n",
    "print(f\"3º Quartil (75%): {df_clientes['idade'].quantile(0.75):.2f}\")\n",
    "\n",
    "# Intervalo interquartil (IQR)\n",
    "q1 = df_clientes['idade'].quantile(0.25)\n",
    "q3 = df_clientes['idade'].quantile(0.75)\n",
    "iqr = q3 - q1\n",
    "print(f\"\\nIQR (Q3-Q1): €{iqr:.2f}\")\n",
    "\n",
    "# Regra comum: outliers são valores fora de [Q1 - 1.5*IQR, Q3 + 1.5*IQR]\n",
    "limite_inferior = q1 - 1.5 * iqr\n",
    "limite_superior = q3 + 1.5 * iqr\n",
    "\n",
    "print(f\"\\nLIMITES PARA OUTLIERS:\")\n",
    "print(f\"Inferior: €{limite_inferior:.2f}\")\n",
    "print(f\"Superior: €{limite_superior:.2f}\")\n",
    "\n",
    "# Contar outliers\n",
    "outliers = df_clientes[(df_clientes['idade'] < limite_inferior) | (df_clientes['idade'] > limite_superior)]\n",
    "print(f\"\\nOutliers encontrados: {len(outliers)} ({len(outliers)/len(df_clientes)*100:.1f}%)\")"
   ]
  },
  {
   "cell_type": "markdown",
   "id": "9313471e",
   "metadata": {},
   "source": [
    "# Não tem outliers"
   ]
  }
 ],
 "metadata": {
  "kernelspec": {
   "display_name": "Python (projeto_llm env)",
   "language": "python",
   "name": "projeto_llm"
  },
  "language_info": {
   "codemirror_mode": {
    "name": "ipython",
    "version": 3
   },
   "file_extension": ".py",
   "mimetype": "text/x-python",
   "name": "python",
   "nbconvert_exporter": "python",
   "pygments_lexer": "ipython3",
   "version": "3.13.1"
  }
 },
 "nbformat": 4,
 "nbformat_minor": 5
}
