{
 "cells": [
  {
   "cell_type": "code",
   "execution_count": 2,
   "id": "6e05ebd5",
   "metadata": {},
   "outputs": [],
   "source": [
    "import pandas as pd\n",
    "import numpy as np\n",
    "import matplotlib.pyplot as plt\n",
    "import seaborn as sns\n",
    "sns.set(style=\"whitegrid\")\n",
    "\n",
    "from sklearn.model_selection import train_test_split\n",
    "from sklearn.preprocessing import StandardScaler\n",
    "from sklearn.metrics import (\n",
    "    accuracy_score, precision_score, recall_score, f1_score,\n",
    "    confusion_matrix, ConfusionMatrixDisplay,\n",
    "    mean_absolute_error, mean_squared_error, r2_score\n",
    ")\n",
    "from sklearn.linear_model import LogisticRegression, LinearRegression\n",
    "from sklearn.tree import DecisionTreeClassifier\n",
    "from sklearn.ensemble import RandomForestClassifier, RandomForestRegressor, GradientBoostingRegressor\n"
   ]
  },
  {
   "cell_type": "code",
   "execution_count": 3,
   "id": "a2eae611",
   "metadata": {},
   "outputs": [
    {
     "name": "stdout",
     "output_type": "stream",
     "text": [
      "Dimensões: (4825, 36)\n"
     ]
    },
    {
     "data": {
      "text/html": [
       "<div>\n",
       "<style scoped>\n",
       "    .dataframe tbody tr th:only-of-type {\n",
       "        vertical-align: middle;\n",
       "    }\n",
       "\n",
       "    .dataframe tbody tr th {\n",
       "        vertical-align: top;\n",
       "    }\n",
       "\n",
       "    .dataframe thead th {\n",
       "        text-align: right;\n",
       "    }\n",
       "</style>\n",
       "<table border=\"1\" class=\"dataframe\">\n",
       "  <thead>\n",
       "    <tr style=\"text-align: right;\">\n",
       "      <th></th>\n",
       "      <th>reserva_id</th>\n",
       "      <th>cliente_id</th>\n",
       "      <th>data_checkin</th>\n",
       "      <th>data_checkout</th>\n",
       "      <th>noites</th>\n",
       "      <th>antecedencia_dias</th>\n",
       "      <th>num_hospedes</th>\n",
       "      <th>tipo_quarto</th>\n",
       "      <th>motivo_viagem</th>\n",
       "      <th>canal_reserva</th>\n",
       "      <th>...</th>\n",
       "      <th>rating_limpeza</th>\n",
       "      <th>rating_staff</th>\n",
       "      <th>rating_localizacao</th>\n",
       "      <th>rating_geral</th>\n",
       "      <th>fez_reclamacao</th>\n",
       "      <th>preco_quarto_noite</th>\n",
       "      <th>gasto_quarto_total</th>\n",
       "      <th>gasto_extras_total</th>\n",
       "      <th>gasto_total</th>\n",
       "      <th>desconto_aplicado</th>\n",
       "    </tr>\n",
       "  </thead>\n",
       "  <tbody>\n",
       "    <tr>\n",
       "      <th>0</th>\n",
       "      <td>H004323</td>\n",
       "      <td>C002561</td>\n",
       "      <td>2023-07-14</td>\n",
       "      <td>2023-07-16</td>\n",
       "      <td>2</td>\n",
       "      <td>133</td>\n",
       "      <td>2</td>\n",
       "      <td>Standard</td>\n",
       "      <td>Evento</td>\n",
       "      <td>Booking</td>\n",
       "      <td>...</td>\n",
       "      <td>4.0</td>\n",
       "      <td>4.0</td>\n",
       "      <td>5</td>\n",
       "      <td>4</td>\n",
       "      <td>Não</td>\n",
       "      <td>103.90</td>\n",
       "      <td>207.80</td>\n",
       "      <td>18.63</td>\n",
       "      <td>226.43</td>\n",
       "      <td>0.0</td>\n",
       "    </tr>\n",
       "    <tr>\n",
       "      <th>1</th>\n",
       "      <td>H004501</td>\n",
       "      <td>C002274</td>\n",
       "      <td>2024-10-21</td>\n",
       "      <td>2024-10-24</td>\n",
       "      <td>3</td>\n",
       "      <td>3</td>\n",
       "      <td>4</td>\n",
       "      <td>Familiar</td>\n",
       "      <td>Business</td>\n",
       "      <td>Booking</td>\n",
       "      <td>...</td>\n",
       "      <td>5.0</td>\n",
       "      <td>4.0</td>\n",
       "      <td>4</td>\n",
       "      <td>4</td>\n",
       "      <td>Não</td>\n",
       "      <td>170.15</td>\n",
       "      <td>510.45</td>\n",
       "      <td>111.54</td>\n",
       "      <td>621.99</td>\n",
       "      <td>0.0</td>\n",
       "    </tr>\n",
       "    <tr>\n",
       "      <th>2</th>\n",
       "      <td>H005429</td>\n",
       "      <td>C007773</td>\n",
       "      <td>2024-07-19</td>\n",
       "      <td>2024-07-24</td>\n",
       "      <td>5</td>\n",
       "      <td>60</td>\n",
       "      <td>2</td>\n",
       "      <td>Superior</td>\n",
       "      <td>Lazer</td>\n",
       "      <td>Booking</td>\n",
       "      <td>...</td>\n",
       "      <td>4.0</td>\n",
       "      <td>5.0</td>\n",
       "      <td>4</td>\n",
       "      <td>5</td>\n",
       "      <td>Não</td>\n",
       "      <td>168.96</td>\n",
       "      <td>844.80</td>\n",
       "      <td>208.39</td>\n",
       "      <td>1053.19</td>\n",
       "      <td>0.0</td>\n",
       "    </tr>\n",
       "    <tr>\n",
       "      <th>3</th>\n",
       "      <td>H003793</td>\n",
       "      <td>C001820</td>\n",
       "      <td>2023-11-12</td>\n",
       "      <td>2023-11-16</td>\n",
       "      <td>4</td>\n",
       "      <td>12</td>\n",
       "      <td>1</td>\n",
       "      <td>Standard</td>\n",
       "      <td>Lazer</td>\n",
       "      <td>Booking</td>\n",
       "      <td>...</td>\n",
       "      <td>4.0</td>\n",
       "      <td>5.0</td>\n",
       "      <td>5</td>\n",
       "      <td>5</td>\n",
       "      <td>Não</td>\n",
       "      <td>91.91</td>\n",
       "      <td>367.64</td>\n",
       "      <td>223.22</td>\n",
       "      <td>590.86</td>\n",
       "      <td>0.0</td>\n",
       "    </tr>\n",
       "    <tr>\n",
       "      <th>4</th>\n",
       "      <td>H003627</td>\n",
       "      <td>C002259</td>\n",
       "      <td>2024-09-11</td>\n",
       "      <td>2024-09-13</td>\n",
       "      <td>2</td>\n",
       "      <td>79</td>\n",
       "      <td>2</td>\n",
       "      <td>Standard</td>\n",
       "      <td>Lazer</td>\n",
       "      <td>Direto</td>\n",
       "      <td>...</td>\n",
       "      <td>5.0</td>\n",
       "      <td>5.0</td>\n",
       "      <td>4</td>\n",
       "      <td>4</td>\n",
       "      <td>Não</td>\n",
       "      <td>102.11</td>\n",
       "      <td>204.22</td>\n",
       "      <td>128.92</td>\n",
       "      <td>333.14</td>\n",
       "      <td>0.0</td>\n",
       "    </tr>\n",
       "  </tbody>\n",
       "</table>\n",
       "<p>5 rows × 36 columns</p>\n",
       "</div>"
      ],
      "text/plain": [
       "  reserva_id cliente_id data_checkin data_checkout  noites  antecedencia_dias  \\\n",
       "0    H004323    C002561   2023-07-14    2023-07-16       2                133   \n",
       "1    H004501    C002274   2024-10-21    2024-10-24       3                  3   \n",
       "2    H005429    C007773   2024-07-19    2024-07-24       5                 60   \n",
       "3    H003793    C001820   2023-11-12    2023-11-16       4                 12   \n",
       "4    H003627    C002259   2024-09-11    2024-09-13       2                 79   \n",
       "\n",
       "   num_hospedes tipo_quarto motivo_viagem canal_reserva  ... rating_limpeza  \\\n",
       "0             2    Standard        Evento       Booking  ...            4.0   \n",
       "1             4    Familiar      Business       Booking  ...            5.0   \n",
       "2             2    Superior         Lazer       Booking  ...            4.0   \n",
       "3             1    Standard         Lazer       Booking  ...            4.0   \n",
       "4             2    Standard         Lazer        Direto  ...            5.0   \n",
       "\n",
       "   rating_staff rating_localizacao rating_geral fez_reclamacao  \\\n",
       "0           4.0                  5            4            Não   \n",
       "1           4.0                  4            4            Não   \n",
       "2           5.0                  4            5            Não   \n",
       "3           5.0                  5            5            Não   \n",
       "4           5.0                  4            4            Não   \n",
       "\n",
       "  preco_quarto_noite gasto_quarto_total  gasto_extras_total gasto_total  \\\n",
       "0             103.90             207.80               18.63      226.43   \n",
       "1             170.15             510.45              111.54      621.99   \n",
       "2             168.96             844.80              208.39     1053.19   \n",
       "3              91.91             367.64              223.22      590.86   \n",
       "4             102.11             204.22              128.92      333.14   \n",
       "\n",
       "   desconto_aplicado  \n",
       "0                0.0  \n",
       "1                0.0  \n",
       "2                0.0  \n",
       "3                0.0  \n",
       "4                0.0  \n",
       "\n",
       "[5 rows x 36 columns]"
      ]
     },
     "execution_count": 3,
     "metadata": {},
     "output_type": "execute_result"
    }
   ],
   "source": [
    "df = pd.read_csv(\"datasets/hotel_limpo.csv\")\n",
    "print(\"Dimensões:\", df.shape)\n",
    "df.head()"
   ]
  },
  {
   "cell_type": "code",
   "execution_count": 4,
   "id": "2161f79d",
   "metadata": {},
   "outputs": [
    {
     "name": "stdout",
     "output_type": "stream",
     "text": [
      "Após limpeza: (4825, 36)\n"
     ]
    },
    {
     "name": "stderr",
     "output_type": "stream",
     "text": [
      "/var/folders/zn/76llcf_53y1gktzpnrpfpcdr0000gn/T/ipykernel_12421/287981135.py:6: FutureWarning: Downcasting behavior in `replace` is deprecated and will be removed in a future version. To retain the old behavior, explicitly call `result.infer_objects(copy=False)`. To opt-in to the future behavior, set `pd.set_option('future.no_silent_downcasting', True)`\n",
      "  .replace({\"sim\": 1, \"não\": 0, \"nao\": 0, \"true\": 1, \"false\": 0})\n"
     ]
    }
   ],
   "source": [
    "# Converter target 'foi_spa' em binário (1=Sim, 0=Não)\n",
    "df[\"foi_spa\"] = (\n",
    "    df[\"foi_spa\"]\n",
    "    .astype(str)\n",
    "    .str.lower()\n",
    "    .replace({\"sim\": 1, \"não\": 0, \"nao\": 0, \"true\": 1, \"false\": 0})\n",
    ").astype(int)\n",
    "\n",
    "# Remover linhas sem target\n",
    "df = df.dropna(subset=[\"foi_spa\", \"gasto_total\"])\n",
    "\n",
    "print(\"Após limpeza:\", df.shape)\n"
   ]
  },
  {
   "cell_type": "code",
   "execution_count": 5,
   "id": "b1fc56c5",
   "metadata": {},
   "outputs": [
    {
     "name": "stdout",
     "output_type": "stream",
     "text": [
      "Features finais: (4825, 32)\n"
     ]
    }
   ],
   "source": [
    "# CLASSIFICAÇÃO — Prever uso do SPA\n",
    "target = \"foi_spa\"\n",
    "\n",
    "# Remover colunas que não devem ser usadas como features\n",
    "irrelevantes = [\n",
    "    \"reserva_id\", \"cliente_id\", \"data_checkin\", \"data_checkout\",\n",
    "    \"gasto_total\", \"gasto_quarto_total\", \"gasto_extras_total\",\n",
    "    \"gasto_spa\", \"num_massagens\"  # 👈 adicionadas para evitar vazamento\n",
    "]\n",
    "\n",
    "X = df.drop(columns=[c for c in irrelevantes if c in df.columns] + [target], errors=\"ignore\")\n",
    "y = df[target]\n",
    "\n",
    "# Codificar variáveis categóricas\n",
    "X = pd.get_dummies(X, drop_first=True)\n",
    "\n",
    "print(\"Features finais:\", X.shape)\n"
   ]
  },
  {
   "cell_type": "code",
   "execution_count": 6,
   "id": "c201904d",
   "metadata": {},
   "outputs": [
    {
     "name": "stdout",
     "output_type": "stream",
     "text": [
      "Treino: (3377, 32) Teste: (1448, 32)\n"
     ]
    }
   ],
   "source": [
    "# Divide o conjunto de dados em treino e teste.\n",
    "X_train, X_test, y_train, y_test = train_test_split(X, y, test_size=0.3, random_state=42, stratify=y)\n",
    "print(\"Treino:\", X_train.shape, \"Teste:\", X_test.shape)"
   ]
  },
  {
   "cell_type": "code",
   "execution_count": 7,
   "id": "d05237be",
   "metadata": {},
   "outputs": [
    {
     "name": "stdout",
     "output_type": "stream",
     "text": [
      "\n",
      "=== Regressão Logística ===\n",
      "Accuracy: 0.626\n",
      "Precision: 0.622\n",
      "Recall: 0.484\n",
      "F1-Score: 0.544\n"
     ]
    },
    {
     "name": "stderr",
     "output_type": "stream",
     "text": [
      "/Users/luana/Desktop/Projeto Final/venv/lib/python3.13/site-packages/sklearn/linear_model/_logistic.py:473: ConvergenceWarning: lbfgs failed to converge after 1000 iteration(s) (status=1):\n",
      "STOP: TOTAL NO. OF ITERATIONS REACHED LIMIT\n",
      "\n",
      "Increase the number of iterations to improve the convergence (max_iter=1000).\n",
      "You might also want to scale the data as shown in:\n",
      "    https://scikit-learn.org/stable/modules/preprocessing.html\n",
      "Please also refer to the documentation for alternative solver options:\n",
      "    https://scikit-learn.org/stable/modules/linear_model.html#logistic-regression\n",
      "  n_iter_i = _check_optimize_result(\n"
     ]
    },
    {
     "data": {
      "image/png": "[encoded data removed]",
      "text/plain": [
       "<Figure size 640x480 with 2 Axes>"
      ]
     },
     "metadata": {},
     "output_type": "display_data"
    },
    {
     "name": "stdout",
     "output_type": "stream",
     "text": [
      "\n",
      "=== Árvore de Decisão ===\n",
      "Accuracy: 0.555\n",
      "Precision: 0.518\n",
      "Recall: 0.485\n",
      "F1-Score: 0.501\n"
     ]
    },
    {
     "data": {
      "image/png": "[encoded data removed]",
      "text/plain": [
       "<Figure size 640x480 with 2 Axes>"
      ]
     },
     "metadata": {},
     "output_type": "display_data"
    },
    {
     "name": "stdout",
     "output_type": "stream",
     "text": [
      "\n",
      "=== Random Forest ===\n",
      "Accuracy: 0.601\n",
      "Precision: 0.587\n",
      "Recall: 0.455\n",
      "F1-Score: 0.513\n"
     ]
    },
    {
     "data": {
      "image/png": "[encoded data removed]",
      "text/plain": [
       "<Figure size 640x480 with 2 Axes>"
      ]
     },
     "metadata": {},
     "output_type": "display_data"
    },
    {
     "data": {
      "text/html": [
       "<div>\n",
       "<style scoped>\n",
       "    .dataframe tbody tr th:only-of-type {\n",
       "        vertical-align: middle;\n",
       "    }\n",
       "\n",
       "    .dataframe tbody tr th {\n",
       "        vertical-align: top;\n",
       "    }\n",
       "\n",
       "    .dataframe thead th {\n",
       "        text-align: right;\n",
       "    }\n",
       "</style>\n",
       "<table border=\"1\" class=\"dataframe\">\n",
       "  <thead>\n",
       "    <tr style=\"text-align: right;\">\n",
       "      <th></th>\n",
       "      <th>Modelo</th>\n",
       "      <th>Accuracy</th>\n",
       "      <th>Precision</th>\n",
       "      <th>Recall</th>\n",
       "      <th>F1</th>\n",
       "    </tr>\n",
       "  </thead>\n",
       "  <tbody>\n",
       "    <tr>\n",
       "      <th>0</th>\n",
       "      <td>Regressão Logística</td>\n",
       "      <td>0.626381</td>\n",
       "      <td>0.622351</td>\n",
       "      <td>0.483533</td>\n",
       "      <td>0.544229</td>\n",
       "    </tr>\n",
       "    <tr>\n",
       "      <th>2</th>\n",
       "      <td>Random Forest</td>\n",
       "      <td>0.600829</td>\n",
       "      <td>0.586873</td>\n",
       "      <td>0.455090</td>\n",
       "      <td>0.512648</td>\n",
       "    </tr>\n",
       "    <tr>\n",
       "      <th>1</th>\n",
       "      <td>Árvore de Decisão</td>\n",
       "      <td>0.554558</td>\n",
       "      <td>0.518400</td>\n",
       "      <td>0.485030</td>\n",
       "      <td>0.501160</td>\n",
       "    </tr>\n",
       "  </tbody>\n",
       "</table>\n",
       "</div>"
      ],
      "text/plain": [
       "                Modelo  Accuracy  Precision    Recall        F1\n",
       "0  Regressão Logística  0.626381   0.622351  0.483533  0.544229\n",
       "2        Random Forest  0.600829   0.586873  0.455090  0.512648\n",
       "1    Árvore de Decisão  0.554558   0.518400  0.485030  0.501160"
      ]
     },
     "metadata": {},
     "output_type": "display_data"
    }
   ],
   "source": [
    "# Dicionário com três modelos de classificação que serão testados\n",
    "# Cada chave é o nome do modelo (para exibição) e o valor é o objeto do modelo\n",
    "models = {\n",
    "    \"Regressão Logística\": LogisticRegression(max_iter=1000),\n",
    "    \"Árvore de Decisão\": DecisionTreeClassifier(random_state=42),\n",
    "    \"Random Forest\": RandomForestClassifier(random_state=42)\n",
    "}\n",
    "\n",
    "results_class = []\n",
    "# Loop para treinar e avaliar cada modelo do dicionário\n",
    "for name, model in models.items():\n",
    "    model.fit(X_train, y_train)\n",
    "    y_pred = model.predict(X_test)\n",
    "    \n",
    "    acc = accuracy_score(y_test, y_pred)\n",
    "    prec = precision_score(y_test, y_pred, zero_division=0)\n",
    "    rec = recall_score(y_test, y_pred, zero_division=0)\n",
    "    f1 = f1_score(y_test, y_pred, zero_division=0)\n",
    "    \n",
    "    results_class.append([name, acc, prec, rec, f1])\n",
    "    \n",
    "    print(f\"\\n=== {name} ===\")\n",
    "    print(f\"Accuracy: {acc:.3f}\")\n",
    "    print(f\"Precision: {prec:.3f}\")\n",
    "    print(f\"Recall: {rec:.3f}\")\n",
    "    print(f\"F1-Score: {f1:.3f}\")\n",
    "    \n",
    "    cm = confusion_matrix(y_test, y_pred)\n",
    "    ConfusionMatrixDisplay(cm, display_labels=[\"Não\", \"Sim\"]).plot(cmap=\"Blues\")\n",
    "    plt.title(f\"Matriz de Confusão — {name}\")\n",
    "    plt.show()\n",
    "\n",
    "# Comparar resultados\n",
    "df_results_class = pd.DataFrame(results_class, columns=[\"Modelo\",\"Accuracy\",\"Precision\",\"Recall\",\"F1\"])\n",
    "display(df_results_class.sort_values(\"F1\", ascending=False))\n"
   ]
  },
  {
   "cell_type": "code",
   "execution_count": 8,
   "id": "2ff8ba64",
   "metadata": {},
   "outputs": [
    {
     "name": "stdout",
     "output_type": "stream",
     "text": [
      "Features finais para regressão: (4825, 30)\n"
     ]
    }
   ],
   "source": [
    "# REGRESSÃO — Prever gasto_total\n",
    "target = \"gasto_total\"\n",
    "\n",
    "# Remover colunas que causam vazamento\n",
    "irrelevantes = [\n",
    "    \"reserva_id\", \"cliente_id\", \"data_checkin\", \"data_checkout\",\n",
    "    \"foi_spa\",                      # comportamento pós-estadia\n",
    "    \"gasto_spa\", \"gasto_quarto_total\", \"gasto_extras_total\",  # usados no cálculo do total\n",
    "    \"preco_quarto_noite\", \"noites\", \"desconto_aplicado\"       # fortemente correlacionados\n",
    "]\n",
    "\n",
    "Xr = df.drop(columns=[c for c in irrelevantes if c in df.columns] + [target], errors=\"ignore\")\n",
    "yr = df[target]\n",
    "\n",
    "# Codificar variáveis categóricas\n",
    "Xr = pd.get_dummies(Xr, drop_first=True)\n",
    "\n",
    "print(\"Features finais para regressão:\", Xr.shape)\n"
   ]
  },
  {
   "cell_type": "code",
   "execution_count": 9,
   "id": "baf30453",
   "metadata": {},
   "outputs": [
    {
     "name": "stdout",
     "output_type": "stream",
     "text": [
      "gasto_total               1.000000\n",
      "gasto_quarto_total        0.955384\n",
      "noites                    0.715323\n",
      "gasto_extras_total        0.535631\n",
      "preco_quarto_noite        0.475613\n",
      "num_massagens             0.339627\n",
      "gasto_spa                 0.328881\n",
      "foi_spa                   0.293416\n",
      "desconto_aplicado         0.209620\n",
      "antecedencia_dias         0.117748\n",
      "num_vezes_room_service    0.105507\n",
      "rating_limpeza            0.095709\n",
      "num_hospedes              0.092940\n",
      "rating_staff              0.074718\n",
      "consumo_minibar           0.071483\n",
      "Name: gasto_total, dtype: float64\n"
     ]
    }
   ],
   "source": [
    "# Calcula a correlação de todas as variáveis numéricas com a variável alvo 'gasto_total'\n",
    "corr = df.corr(numeric_only=True)[\"gasto_total\"].sort_values(ascending=False)\n",
    "print(corr.head(15))\n"
   ]
  },
  {
   "cell_type": "code",
   "execution_count": 10,
   "id": "8a474609",
   "metadata": {},
   "outputs": [
    {
     "name": "stdout",
     "output_type": "stream",
     "text": [
      "Treino: (3377, 30) Teste: (1448, 30)\n"
     ]
    }
   ],
   "source": [
    "Xr_train, Xr_test, yr_train, yr_test = train_test_split(Xr, yr, test_size=0.3, random_state=42)\n",
    "print(\"Treino:\", Xr_train.shape, \"Teste:\", Xr_test.shape)\n"
   ]
  },
  {
   "cell_type": "code",
   "execution_count": 11,
   "id": "2a23d109",
   "metadata": {},
   "outputs": [
    {
     "name": "stdout",
     "output_type": "stream",
     "text": [
      "\n",
      "=== Regressão Linear ===\n",
      "MAE: 186.89\n",
      "RMSE: 234.47\n",
      "R²: 0.353\n",
      "\n",
      "=== Random Forest Regressor ===\n",
      "MAE: 188.15\n",
      "RMSE: 237.45\n",
      "R²: 0.336\n",
      "\n",
      "=== Gradient Boosting Regressor ===\n",
      "MAE: 183.28\n",
      "RMSE: 230.60\n",
      "R²: 0.374\n"
     ]
    },
    {
     "data": {
      "text/html": [
       "<div>\n",
       "<style scoped>\n",
       "    .dataframe tbody tr th:only-of-type {\n",
       "        vertical-align: middle;\n",
       "    }\n",
       "\n",
       "    .dataframe tbody tr th {\n",
       "        vertical-align: top;\n",
       "    }\n",
       "\n",
       "    .dataframe thead th {\n",
       "        text-align: right;\n",
       "    }\n",
       "</style>\n",
       "<table border=\"1\" class=\"dataframe\">\n",
       "  <thead>\n",
       "    <tr style=\"text-align: right;\">\n",
       "      <th></th>\n",
       "      <th>Modelo</th>\n",
       "      <th>MAE</th>\n",
       "      <th>RMSE</th>\n",
       "      <th>R²</th>\n",
       "    </tr>\n",
       "  </thead>\n",
       "  <tbody>\n",
       "    <tr>\n",
       "      <th>2</th>\n",
       "      <td>Gradient Boosting Regressor</td>\n",
       "      <td>183.281615</td>\n",
       "      <td>230.604838</td>\n",
       "      <td>0.374052</td>\n",
       "    </tr>\n",
       "    <tr>\n",
       "      <th>0</th>\n",
       "      <td>Regressão Linear</td>\n",
       "      <td>186.891662</td>\n",
       "      <td>234.470728</td>\n",
       "      <td>0.352890</td>\n",
       "    </tr>\n",
       "    <tr>\n",
       "      <th>1</th>\n",
       "      <td>Random Forest Regressor</td>\n",
       "      <td>188.151823</td>\n",
       "      <td>237.450142</td>\n",
       "      <td>0.336339</td>\n",
       "    </tr>\n",
       "  </tbody>\n",
       "</table>\n",
       "</div>"
      ],
      "text/plain": [
       "                        Modelo         MAE        RMSE        R²\n",
       "2  Gradient Boosting Regressor  183.281615  230.604838  0.374052\n",
       "0             Regressão Linear  186.891662  234.470728  0.352890\n",
       "1      Random Forest Regressor  188.151823  237.450142  0.336339"
      ]
     },
     "metadata": {},
     "output_type": "display_data"
    }
   ],
   "source": [
    "models_reg = {\n",
    "    \"Regressão Linear\": LinearRegression(),\n",
    "    \"Random Forest Regressor\": RandomForestRegressor(random_state=42),\n",
    "    \"Gradient Boosting Regressor\": GradientBoostingRegressor(random_state=42)\n",
    "}\n",
    "\n",
    "results_reg = []\n",
    "\n",
    "for name, model in models_reg.items():\n",
    "    model.fit(Xr_train, yr_train)\n",
    "    y_pred = model.predict(Xr_test)\n",
    "    \n",
    "    mae = mean_absolute_error(yr_test, y_pred)\n",
    "    rmse = np.sqrt(mean_squared_error(yr_test, y_pred))\n",
    "    r2 = r2_score(yr_test, y_pred)\n",
    "    \n",
    "    results_reg.append([name, mae, rmse, r2])\n",
    "    \n",
    "    print(f\"\\n=== {name} ===\")\n",
    "    print(f\"MAE: {mae:.2f}\")\n",
    "    print(f\"RMSE: {rmse:.2f}\")\n",
    "    print(f\"R²: {r2:.3f}\")\n",
    "    \n",
    "# Comparar resultados\n",
    "df_results_reg = pd.DataFrame(results_reg, columns=[\"Modelo\",\"MAE\",\"RMSE\",\"R²\"])\n",
    "display(df_results_reg.sort_values(\"R²\", ascending=False))\n"
   ]
  },
  {
   "cell_type": "code",
   "execution_count": 12,
   "id": "bc9c83ef",
   "metadata": {},
   "outputs": [
    {
     "data": {
      "image/png": "[encoded data removed]",
      "text/plain": [
       "<Figure size 1200x500 with 2 Axes>"
      ]
     },
     "metadata": {},
     "output_type": "display_data"
    }
   ],
   "source": [
    "fig, axes = plt.subplots(1, 2, figsize=(12, 5))\n",
    "\n",
    "# Classificação\n",
    "sns.barplot(data=df_results_class, x=\"Modelo\", y=\"F1\", ax=axes[0])\n",
    "axes[0].set_title(\"Comparação de Modelos — Classificação (F1-Score)\")\n",
    "axes[0].set_ylim(0, 1)\n",
    "\n",
    "# Regressão\n",
    "sns.barplot(data=df_results_reg, x=\"Modelo\", y=\"R²\", ax=axes[1])\n",
    "axes[1].set_title(\"Comparação de Modelos — Regressão (R²)\")\n",
    "axes[1].set_ylim(0, 1)\n",
    "\n",
    "plt.tight_layout()\n",
    "plt.show()\n"
   ]
  },
  {
   "cell_type": "code",
   "execution_count": 13,
   "id": "500a6e1f",
   "metadata": {},
   "outputs": [
    {
     "name": "stdout",
     "output_type": "stream",
     "text": [
      "🏆 RESULTADOS FINAIS\n",
      "\n",
      "🔹 Melhor modelo de CLASSIFICAÇÃO: Regressão Logística (F1 = 0.544)\n",
      "🔹 Melhor modelo de REGRESSÃO: Gradient Boosting Regressor (R² = 0.374)\n"
     ]
    },
    {
     "data": {
      "text/html": [
       "<div>\n",
       "<style scoped>\n",
       "    .dataframe tbody tr th:only-of-type {\n",
       "        vertical-align: middle;\n",
       "    }\n",
       "\n",
       "    .dataframe tbody tr th {\n",
       "        vertical-align: top;\n",
       "    }\n",
       "\n",
       "    .dataframe thead th {\n",
       "        text-align: right;\n",
       "    }\n",
       "</style>\n",
       "<table border=\"1\" class=\"dataframe\">\n",
       "  <thead>\n",
       "    <tr style=\"text-align: right;\">\n",
       "      <th></th>\n",
       "      <th>Tarefa</th>\n",
       "      <th>Melhor Modelo</th>\n",
       "      <th>Métrica Principal</th>\n",
       "      <th>Valor</th>\n",
       "    </tr>\n",
       "  </thead>\n",
       "  <tbody>\n",
       "    <tr>\n",
       "      <th>0</th>\n",
       "      <td>Classificação (foi_spa)</td>\n",
       "      <td>Regressão Logística</td>\n",
       "      <td>F1-Score</td>\n",
       "      <td>0.544</td>\n",
       "    </tr>\n",
       "    <tr>\n",
       "      <th>1</th>\n",
       "      <td>Regressão (gasto_total)</td>\n",
       "      <td>Gradient Boosting Regressor</td>\n",
       "      <td>R²</td>\n",
       "      <td>0.374</td>\n",
       "    </tr>\n",
       "  </tbody>\n",
       "</table>\n",
       "</div>"
      ],
      "text/plain": [
       "                    Tarefa                Melhor Modelo Métrica Principal  \\\n",
       "0  Classificação (foi_spa)          Regressão Logística          F1-Score   \n",
       "1  Regressão (gasto_total)  Gradient Boosting Regressor                R²   \n",
       "\n",
       "   Valor  \n",
       "0  0.544  \n",
       "1  0.374  "
      ]
     },
     "metadata": {},
     "output_type": "display_data"
    }
   ],
   "source": [
    "# ======================================================\n",
    "# 🏁 RESUMO FINAL — MELHORES MODELOS\n",
    "# ======================================================\n",
    "\n",
    "# Melhor modelo de CLASSIFICAÇÃO (maior F1)\n",
    "best_class = df_results_class.loc[df_results_class[\"F1\"].idxmax()]\n",
    "best_class_model = best_class[\"Modelo\"]\n",
    "best_class_score = best_class[\"F1\"]\n",
    "\n",
    "# Melhor modelo de REGRESSÃO (maior R²)\n",
    "best_reg = df_results_reg.loc[df_results_reg[\"R²\"].idxmax()]\n",
    "best_reg_model = best_reg[\"Modelo\"]\n",
    "best_reg_score = best_reg[\"R²\"]\n",
    "\n",
    "print(\"🏆 RESULTADOS FINAIS\\n\")\n",
    "print(f\"🔹 Melhor modelo de CLASSIFICAÇÃO: {best_class_model} (F1 = {best_class_score:.3f})\")\n",
    "print(f\"🔹 Melhor modelo de REGRESSÃO: {best_reg_model} (R² = {best_reg_score:.3f})\")\n",
    "\n",
    "# Visualização simples lado a lado\n",
    "summary = pd.DataFrame({\n",
    "    \"Tarefa\": [\"Classificação (foi_spa)\", \"Regressão (gasto_total)\"],\n",
    "    \"Melhor Modelo\": [best_class_model, best_reg_model],\n",
    "    \"Métrica Principal\": [\"F1-Score\", \"R²\"],\n",
    "    \"Valor\": [round(best_class_score, 3), round(best_reg_score, 3)]\n",
    "})\n",
    "\n",
    "display(summary)\n"
   ]
  }
 ],
 "metadata": {
  "kernelspec": {
   "display_name": "venv",
   "language": "python",
   "name": "python3"
  },
  "language_info": {
   "codemirror_mode": {
    "name": "ipython",
    "version": 3
   },
   "file_extension": ".py",
   "mimetype": "text/x-python",
   "name": "python",
   "nbconvert_exporter": "python",
   "pygments_lexer": "ipython3",
   "version": "3.13.7"
  }
 },
 "nbformat": 4,
 "nbformat_minor": 5
}
